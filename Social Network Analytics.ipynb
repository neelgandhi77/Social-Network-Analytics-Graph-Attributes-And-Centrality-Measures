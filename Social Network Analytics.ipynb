{
  "cells": [
    {
      "cell_type": "code",
      "execution_count": 1,
      "metadata": {
        "id": "j_WTLx-qAz8k"
      },
      "outputs": [],
      "source": [
        "import networkx as nx\n",
        "import pandas as pd\n",
        "import numpy as np\n",
        "from matplotlib import pyplot as plt \n",
        "%matplotlib inline"
      ]
    },
    {
      "cell_type": "markdown",
      "metadata": {
        "id": "NuC4EqBHA-tj"
      },
      "source": [
        "**PART 1 & 2**"
      ]
    },
    {
      "cell_type": "code",
      "execution_count": 7,
      "metadata": {
        "id": "6tkzHGz1B5Xr"
      },
      "outputs": [],
      "source": [
        "csvfile = 'edge_list.csv'"
      ]
    },
    {
      "cell_type": "code",
      "execution_count": 17,
      "metadata": {
        "id": "p26H2aMOtEyu"
      },
      "outputs": [],
      "source": [
        "G = nx.Graph()"
      ]
    },
    {
      "cell_type": "code",
      "execution_count": 18,
      "metadata": {
        "id": "-sG8fAeoN4aX"
      },
      "outputs": [],
      "source": [
        "def graph_built_undirected(csvfile):\n",
        "  df = pd.read_csv(csvfile)\n",
        "  edges=[]\n",
        "  for i in range(len(df)):\n",
        "    edges.append((df.Source[i],df.Destination[i],int(df.Weight[i])))\n",
        "\n",
        "  G.add_weighted_edges_from(edges)\n",
        "  edge_labels = nx.get_edge_attributes(G, \"weight\")\n",
        "  # getting different graph attributes\n",
        "  print(\"Total number of nodes: \", int(G.number_of_nodes()))\n",
        "  print(\"Total number of edges: \", int(G.number_of_edges()))\n",
        "  print(\"List of all nodes: \", list(G.nodes()))\n",
        "  print(\"List of all edges: \", list(G.edges()))\n",
        "  print(\"Degree for all nodes: \", dict(G.degree()))\n",
        "  print(\"Max Degree Node: \", max(zip(dict(G.degree()).values(), dict(G.degree()).keys()))[1])\n",
        "  print(\"Min Degree Node: \", min(zip(dict(G.degree()).values(), dict(G.degree()).keys()))[1])\n",
        "  nx.draw_networkx(G, with_labels = True)\n",
        "  plt.savefig(\"Undirected_Graph.png\", format=\"PNG\")\n",
        "  #pos = nx.spring_layout(G, seed=7) \n",
        "  #nx.draw_networkx_edge_labels(G, pos, edge_labels)\n",
        "\n"
      ]
    },
    {
      "cell_type": "code",
      "execution_count": null,
      "metadata": {
        "id": "YmVVUH3nsMxD"
      },
      "outputs": [],
      "source": []
    },
    {
      "cell_type": "code",
      "execution_count": 19,
      "metadata": {
        "colab": {
          "base_uri": "https://localhost:8080/",
          "height": 370
        },
        "id": "XSQbwtJmLMF3",
        "outputId": "72b7978e-a313-4054-926e-f1a7463eaeb4"
      },
      "outputs": [
        {
          "name": "stdout",
          "output_type": "stream",
          "text": [
            "Total number of nodes:  10\n",
            "Total number of edges:  15\n",
            "List of all nodes:  [0, 1, 2, 8, 9, 4, 6, 3, 7, 5]\n",
            "List of all edges:  [(0, 1), (0, 2), (0, 8), (0, 9), (1, 4), (1, 6), (2, 3), (2, 6), (8, 5), (9, 5), (4, 7), (4, 5), (6, 7), (3, 7), (3, 5)]\n",
            "Degree for all nodes:  {0: 4, 1: 3, 2: 3, 8: 2, 9: 2, 4: 3, 6: 3, 3: 3, 7: 3, 5: 4}\n",
            "Max Degree Node:  5\n",
            "Min Degree Node:  8\n"
          ]
        },
        {
          "data": {
            "image/png": "[encoded data removed]",
            "text/plain": [
              "<Figure size 432x288 with 1 Axes>"
            ]
          },
          "metadata": {},
          "output_type": "display_data"
        }
      ],
      "source": [
        "graph_built_undirected(csvfile)"
      ]
    },
    {
      "cell_type": "code",
      "execution_count": 20,
      "metadata": {
        "id": "AaSMi9JaPAtg"
      },
      "outputs": [],
      "source": [
        "G2= nx.DiGraph()"
      ]
    },
    {
      "cell_type": "code",
      "execution_count": 21,
      "metadata": {
        "id": "UsSn3818PlAI"
      },
      "outputs": [],
      "source": [
        "def graph_built_directed(csvfile):\n",
        "  edges=[]\n",
        "  df = pd.read_csv(csvfile)\n",
        "  for i in range(len(df)):\n",
        "    edges.append((df.Source[i],df.Destination[i]))\n",
        "\n",
        "  G2.add_edges_from(edges)\n",
        "  # getting different graph attributes\n",
        "  print(\"Total number of nodes: \", int(G2.number_of_nodes()))\n",
        "  print(\"Total number of edges: \", int(G2.number_of_edges()))\n",
        "  print(\"List of all nodes: \", list(G2.nodes()))\n",
        "  print(\"List of all edges: \", list(G2.edges()))\n",
        "  print(\"In-degree for all nodes: \", dict(G2.in_degree()))  \n",
        "  print(\"Out degree for all nodes: \", dict(G2.out_degree))\n",
        "  #print(\"Max In Degree Node: \", max(zip(dict(G2.in_degree()).values(), dict(G2.in_degree()).keys()))[1])\n",
        "  #print(\"Min In Degree Node: \", min(zip(dict(G2.in_degree()).values(), dict(G2.in_degree()).keys()))[1])\n",
        "  #print(\"Max Out Degree Node: \", max(zip(dict(G2.out_degree()).values(), dict(G2.out_degree()).keys()))[1])\n",
        "  #print(\"Min Out Degree Node: \", min(zip(dict(G2.out_degree()).values(), dict(G2.out_degree()).keys()))[1])\n",
        "  nx.draw_networkx(G2, with_labels = True)\n",
        "  plt.savefig(\"Directed_Graph.png\", format=\"PNG\")\n"
      ]
    },
    {
      "cell_type": "code",
      "execution_count": 22,
      "metadata": {
        "colab": {
          "base_uri": "https://localhost:8080/",
          "height": 352
        },
        "id": "XHuqHpytROPV",
        "outputId": "f01e0a7c-a1f6-4271-fe3e-590e4dbb4777"
      },
      "outputs": [
        {
          "name": "stdout",
          "output_type": "stream",
          "text": [
            "Total number of nodes:  10\n",
            "Total number of edges:  15\n",
            "List of all nodes:  [0, 1, 2, 8, 9, 4, 6, 3, 7, 5]\n",
            "List of all edges:  [(0, 1), (0, 2), (0, 8), (0, 9), (1, 4), (1, 6), (2, 3), (2, 6), (8, 5), (9, 5), (4, 7), (4, 5), (6, 7), (3, 7), (3, 5)]\n",
            "In-degree for all nodes:  {0: 0, 1: 1, 2: 1, 8: 1, 9: 1, 4: 1, 6: 2, 3: 1, 7: 3, 5: 4}\n",
            "Out degree for all nodes:  {0: 4, 1: 2, 2: 2, 8: 1, 9: 1, 4: 2, 6: 1, 3: 2, 7: 0, 5: 0}\n"
          ]
        },
        {
          "data": {
            "image/png": "[encoded data removed]",
            "text/plain": [
              "<Figure size 432x288 with 1 Axes>"
            ]
          },
          "metadata": {},
          "output_type": "display_data"
        }
      ],
      "source": [
        "graph_built_directed(csvfile)"
      ]
    },
    {
      "cell_type": "code",
      "execution_count": 22,
      "metadata": {
        "id": "7-rePC11SLr1"
      },
      "outputs": [],
      "source": []
    },
    {
      "cell_type": "markdown",
      "metadata": {
        "id": "caxOidWNBBMT"
      },
      "source": [
        "**PART 3**"
      ]
    },
    {
      "cell_type": "code",
      "execution_count": 23,
      "metadata": {
        "id": "T8PwaQSrRkE-"
      },
      "outputs": [],
      "source": [
        "def undirected_Adj_matrix(G):\n",
        "  undirected_Adj_mat = nx.adjacency_matrix(G)\n",
        "  print(undirected_Adj_mat.todense())\n",
        "  udg_node = int(input(\"Enter Node: \"))\n",
        "  udg_sum = 0\n",
        "  for i in range(len(undirected_Adj_mat.todense()[udg_node])):\n",
        "    udg_sum = udg_sum +  int(undirected_Adj_mat.todense()[udg_node][i])\n",
        "  print(f\"Sum for Node {udg_node} is {udg_sum}\")"
      ]
    },
    {
      "cell_type": "code",
      "execution_count": 24,
      "metadata": {
        "colab": {
          "base_uri": "https://localhost:8080/"
        },
        "id": "1uCD1PbuTGSS",
        "outputId": "afdd7962-31a5-4366-e5ab-a3610e64116b"
      },
      "outputs": [
        {
          "name": "stdout",
          "output_type": "stream",
          "text": [
            "[[0 5 6 7 2 0 0 0 0 0]\n",
            " [5 0 0 0 0 5 3 0 0 0]\n",
            " [6 0 0 0 0 0 3 2 0 0]\n",
            " [7 0 0 0 0 0 0 0 0 1]\n",
            " [2 0 0 0 0 0 0 0 0 2]\n",
            " [0 5 0 0 0 0 0 0 3 4]\n",
            " [0 3 3 0 0 0 0 0 1 0]\n",
            " [0 0 2 0 0 0 0 0 3 3]\n",
            " [0 0 0 0 0 3 1 3 0 0]\n",
            " [0 0 0 1 2 4 0 3 0 0]]\n",
            "Enter Node: 0\n",
            "Sum for Node 0 is 20\n"
          ]
        }
      ],
      "source": [
        "undirected_Adj_matrix(G)"
      ]
    },
    {
      "cell_type": "code",
      "execution_count": 25,
      "metadata": {
        "id": "X1PM-m6cXFDw"
      },
      "outputs": [],
      "source": [
        "def directed_Adj_matrix(G):\n",
        "  directed_Adj_mat = nx.adjacency_matrix(G2)\n",
        "  print(directed_Adj_mat.todense())\n",
        "\n",
        "  dg_node = int(input(\"Enter Node: \"))\n",
        "\n",
        "  dg_sum = 0\n",
        "  for i in range(len(directed_Adj_mat.todense()[dg_node])):\n",
        "    dg_sum = dg_sum +  int(directed_Adj_mat.todense()[dg_node][i])\n",
        "\n",
        "  for i in range(len(directed_Adj_mat.todense()[dg_node])):\n",
        "    dg_sum = dg_sum +  int(directed_Adj_mat.todense()[i][dg_node])\n",
        "   \n",
        "  print(f\"Sum for Node {dg_node} is {dg_sum}\")"
      ]
    },
    {
      "cell_type": "code",
      "execution_count": 26,
      "metadata": {
        "colab": {
          "base_uri": "https://localhost:8080/"
        },
        "id": "LZsE1BJFWjCd",
        "outputId": "991db98d-e8c4-4664-9b26-831f01c5e758"
      },
      "outputs": [
        {
          "name": "stdout",
          "output_type": "stream",
          "text": [
            "[[0 1 1 1 1 0 0 0 0 0]\n",
            " [0 0 0 0 0 1 1 0 0 0]\n",
            " [0 0 0 0 0 0 1 1 0 0]\n",
            " [0 0 0 0 0 0 0 0 0 1]\n",
            " [0 0 0 0 0 0 0 0 0 1]\n",
            " [0 0 0 0 0 0 0 0 1 1]\n",
            " [0 0 0 0 0 0 0 0 1 0]\n",
            " [0 0 0 0 0 0 0 0 1 1]\n",
            " [0 0 0 0 0 0 0 0 0 0]\n",
            " [0 0 0 0 0 0 0 0 0 0]]\n",
            "Enter Node: 0\n",
            "Sum for Node 0 is 4\n"
          ]
        }
      ],
      "source": [
        "directed_Adj_matrix(G2)"
      ]
    },
    {
      "cell_type": "code",
      "execution_count": null,
      "metadata": {
        "id": "6XrcQUwjUtbi"
      },
      "outputs": [],
      "source": [
        "\n"
      ]
    },
    {
      "cell_type": "code",
      "execution_count": null,
      "metadata": {
        "id": "c1rSwCDRYrrw"
      },
      "outputs": [],
      "source": []
    },
    {
      "cell_type": "code",
      "execution_count": null,
      "metadata": {
        "id": "Hy_byeOMcjTx"
      },
      "outputs": [],
      "source": []
    },
    {
      "cell_type": "markdown",
      "metadata": {
        "id": "Hn9e8ZA6BBtG"
      },
      "source": [
        "**PART 4**"
      ]
    },
    {
      "cell_type": "code",
      "execution_count": 27,
      "metadata": {
        "id": "VVo4TFmyckH2"
      },
      "outputs": [],
      "source": [
        "def dict_round(s_r_dict):\n",
        "  s_r_dict = dict(sorted(s_r_dict.items()))\n",
        "  for key in s_r_dict:\n",
        "    s_r_dict[key] = round(s_r_dict[key], 2)\n",
        "  return s_r_dict"
      ]
    },
    {
      "cell_type": "markdown",
      "metadata": {
        "id": "oYKaq1fSjTgd"
      },
      "source": [
        "**Undirected Graph**"
      ]
    },
    {
      "cell_type": "code",
      "execution_count": 28,
      "metadata": {
        "colab": {
          "base_uri": "https://localhost:8080/"
        },
        "id": "cjNKxyUeB4SI",
        "outputId": "b3d937fe-af50-4ec7-ebd8-ed63ee7ed3b9"
      },
      "outputs": [
        {
          "name": "stdout",
          "output_type": "stream",
          "text": [
            "{0: 0.4444444444444444, 1: 0.3333333333333333, 2: 0.3333333333333333, 8: 0.2222222222222222, 9: 0.2222222222222222, 4: 0.3333333333333333, 6: 0.3333333333333333, 3: 0.3333333333333333, 7: 0.3333333333333333, 5: 0.4444444444444444}\n",
            "{0: 0.44, 1: 0.33, 2: 0.33, 3: 0.33, 4: 0.33, 5: 0.44, 6: 0.33, 7: 0.33, 8: 0.22, 9: 0.22}\n"
          ]
        }
      ],
      "source": [
        "deg_centrality = nx.degree_centrality(G)\n",
        "print(deg_centrality)\n",
        "udg_deg_centrality = dict_round(deg_centrality)\n",
        "print(udg_deg_centrality)"
      ]
    },
    {
      "cell_type": "code",
      "execution_count": null,
      "metadata": {
        "id": "qroBMJNrciSq"
      },
      "outputs": [],
      "source": []
    },
    {
      "cell_type": "code",
      "execution_count": 29,
      "metadata": {
        "colab": {
          "base_uri": "https://localhost:8080/"
        },
        "id": "vJclKXGUZgKE",
        "outputId": "06101163-6e74-485d-ee2e-c23b9e4f72db"
      },
      "outputs": [
        {
          "name": "stdout",
          "output_type": "stream",
          "text": [
            "{0: 0.6, 1: 0.5625, 2: 0.5625, 8: 0.5, 9: 0.5, 4: 0.5625, 6: 0.5, 3: 0.5625, 7: 0.5, 5: 0.6}\n",
            "{0: 0.6, 1: 0.56, 2: 0.56, 3: 0.56, 4: 0.56, 5: 0.6, 6: 0.5, 7: 0.5, 8: 0.5, 9: 0.5}\n"
          ]
        }
      ],
      "source": [
        "closeness_centrality = nx.closeness_centrality(G)\n",
        "print(closeness_centrality)\n",
        "udg_closeness_centrality = dict_round(closeness_centrality)\n",
        "print(udg_closeness_centrality)"
      ]
    },
    {
      "cell_type": "code",
      "execution_count": 30,
      "metadata": {
        "colab": {
          "base_uri": "https://localhost:8080/"
        },
        "id": "R_gTLL80ZwDX",
        "outputId": "dae14913-dae8-4225-eec6-833055e74f6e"
      },
      "outputs": [
        {
          "name": "stdout",
          "output_type": "stream",
          "text": [
            "{0: 0.6, 1: 0.5625, 2: 0.5625, 8: 0.5, 9: 0.5, 4: 0.5625, 6: 0.5, 3: 0.5625, 7: 0.5, 5: 0.6}\n",
            "{0: 0.6, 1: 0.56, 2: 0.56, 3: 0.56, 4: 0.56, 5: 0.6, 6: 0.5, 7: 0.5, 8: 0.5, 9: 0.5}\n"
          ]
        }
      ],
      "source": [
        "betweeness_centrality = nx.closeness_centrality(G)\n",
        "print(betweeness_centrality)\n",
        "udg_betweeness_centrality = dict_round(betweeness_centrality)\n",
        "print(udg_betweeness_centrality)"
      ]
    },
    {
      "cell_type": "code",
      "execution_count": 31,
      "metadata": {
        "colab": {
          "base_uri": "https://localhost:8080/"
        },
        "id": "Woj7jjw7ZgMb",
        "outputId": "495eae43-3989-40a9-e5d3-28dde0860b5f"
      },
      "outputs": [
        {
          "name": "stdout",
          "output_type": "stream",
          "text": [
            "{0: 0.3653174543118881, 1: 0.3258426715842208, 2: 0.3258426715842208, 8: 0.23707927944951493, 9: 0.23707927944951493, 4: 0.3258426715842208, 6: 0.313033032730566, 3: 0.3258426715842208, 7: 0.313033032730566, 5: 0.36531745431188817}\n",
            "{0: 0.37, 1: 0.33, 2: 0.33, 3: 0.33, 4: 0.33, 5: 0.37, 6: 0.31, 7: 0.31, 8: 0.24, 9: 0.24}\n"
          ]
        }
      ],
      "source": [
        "eigen_vector_centrality = nx.eigenvector_centrality(G)\n",
        "print(eigen_vector_centrality)\n",
        "udg_eigen_vector_centrality = dict_round(eigen_vector_centrality)\n",
        "print(udg_eigen_vector_centrality)"
      ]
    },
    {
      "cell_type": "code",
      "execution_count": 31,
      "metadata": {
        "id": "YAptADD8ZgPD"
      },
      "outputs": [],
      "source": []
    },
    {
      "cell_type": "code",
      "execution_count": 31,
      "metadata": {
        "id": "MuF-dSb_blDJ"
      },
      "outputs": [],
      "source": []
    },
    {
      "cell_type": "code",
      "execution_count": 32,
      "metadata": {
        "id": "pO1qR23RcO1C"
      },
      "outputs": [],
      "source": [
        "udf = pd.DataFrame.from_dict(udg_deg_centrality,orient='index',columns=['Degree_Centrality'])\n",
        "udf = udf.assign(Closeness_Centrality= udg_closeness_centrality.values())\n",
        "udf = udf.assign(Betweeness_Centrality= udg_betweeness_centrality.values())\n",
        "udf = udf.assign(Eigen_Vector_Centrality= udg_eigen_vector_centrality.values())"
      ]
    },
    {
      "cell_type": "code",
      "execution_count": 33,
      "metadata": {
        "colab": {
          "base_uri": "https://localhost:8080/",
          "height": 363
        },
        "id": "AXfWFFeXiTJP",
        "outputId": "e97facba-bb29-4a57-f786-2d42f07e6ac2"
      },
      "outputs": [
        {
          "data": {
            "text/html": [
              "\n",
              "  <div id=\"df-c5255a02-459c-4154-b8a9-cbd82b504d20\">\n",
              "    <div class=\"colab-df-container\">\n",
              "      <div>\n",
              "<style scoped>\n",
              "    .dataframe tbody tr th:only-of-type {\n",
              "        vertical-align: middle;\n",
              "    }\n",
              "\n",
              "    .dataframe tbody tr th {\n",
              "        vertical-align: top;\n",
              "    }\n",
              "\n",
              "    .dataframe thead th {\n",
              "        text-align: right;\n",
              "    }\n",
              "</style>\n",
              "<table border=\"1\" class=\"dataframe\">\n",
              "  <thead>\n",
              "    <tr style=\"text-align: right;\">\n",
              "      <th></th>\n",
              "      <th>Degree_Centrality</th>\n",
              "      <th>Closeness_Centrality</th>\n",
              "      <th>Betweeness_Centrality</th>\n",
              "      <th>Eigen_Vector_Centrality</th>\n",
              "    </tr>\n",
              "  </thead>\n",
              "  <tbody>\n",
              "    <tr>\n",
              "      <th>0</th>\n",
              "      <td>0.44</td>\n",
              "      <td>0.60</td>\n",
              "      <td>0.60</td>\n",
              "      <td>0.37</td>\n",
              "    </tr>\n",
              "    <tr>\n",
              "      <th>1</th>\n",
              "      <td>0.33</td>\n",
              "      <td>0.56</td>\n",
              "      <td>0.56</td>\n",
              "      <td>0.33</td>\n",
              "    </tr>\n",
              "    <tr>\n",
              "      <th>2</th>\n",
              "      <td>0.33</td>\n",
              "      <td>0.56</td>\n",
              "      <td>0.56</td>\n",
              "      <td>0.33</td>\n",
              "    </tr>\n",
              "    <tr>\n",
              "      <th>3</th>\n",
              "      <td>0.33</td>\n",
              "      <td>0.56</td>\n",
              "      <td>0.56</td>\n",
              "      <td>0.33</td>\n",
              "    </tr>\n",
              "    <tr>\n",
              "      <th>4</th>\n",
              "      <td>0.33</td>\n",
              "      <td>0.56</td>\n",
              "      <td>0.56</td>\n",
              "      <td>0.33</td>\n",
              "    </tr>\n",
              "    <tr>\n",
              "      <th>5</th>\n",
              "      <td>0.44</td>\n",
              "      <td>0.60</td>\n",
              "      <td>0.60</td>\n",
              "      <td>0.37</td>\n",
              "    </tr>\n",
              "    <tr>\n",
              "      <th>6</th>\n",
              "      <td>0.33</td>\n",
              "      <td>0.50</td>\n",
              "      <td>0.50</td>\n",
              "      <td>0.31</td>\n",
              "    </tr>\n",
              "    <tr>\n",
              "      <th>7</th>\n",
              "      <td>0.33</td>\n",
              "      <td>0.50</td>\n",
              "      <td>0.50</td>\n",
              "      <td>0.31</td>\n",
              "    </tr>\n",
              "    <tr>\n",
              "      <th>8</th>\n",
              "      <td>0.22</td>\n",
              "      <td>0.50</td>\n",
              "      <td>0.50</td>\n",
              "      <td>0.24</td>\n",
              "    </tr>\n",
              "    <tr>\n",
              "      <th>9</th>\n",
              "      <td>0.22</td>\n",
              "      <td>0.50</td>\n",
              "      <td>0.50</td>\n",
              "      <td>0.24</td>\n",
              "    </tr>\n",
              "  </tbody>\n",
              "</table>\n",
              "</div>\n",
              "      <button class=\"colab-df-convert\" onclick=\"convertToInteractive('df-c5255a02-459c-4154-b8a9-cbd82b504d20')\"\n",
              "              title=\"Convert this dataframe to an interactive table.\"\n",
              "              style=\"display:none;\">\n",
              "        \n",
              "  <svg xmlns=\"http://www.w3.org/2000/svg\" height=\"24px\"viewBox=\"0 0 24 24\"\n",
              "       width=\"24px\">\n",
              "    <path d=\"M0 0h24v24H0V0z\" fill=\"none\"/>\n",
              "    <path d=\"M18.56 5.44l.94 2.06.94-2.06 2.06-.94-2.06-.94-.94-2.06-.94 2.06-2.06.94zm-11 1L8.5 8.5l.94-2.06 2.06-.94-2.06-.94L8.5 2.5l-.94 2.06-2.06.94zm10 10l.94 2.06.94-2.06 2.06-.94-2.06-.94-.94-2.06-.94 2.06-2.06.94z\"/><path d=\"M17.41 7.96l-1.37-1.37c-.4-.4-.92-.59-1.43-.59-.52 0-1.04.2-1.43.59L10.3 9.45l-7.72 7.72c-.78.78-.78 2.05 0 2.83L4 21.41c.39.39.9.59 1.41.59.51 0 1.02-.2 1.41-.59l7.78-7.78 2.81-2.81c.8-.78.8-2.07 0-2.86zM5.41 20L4 18.59l7.72-7.72 1.47 1.35L5.41 20z\"/>\n",
              "  </svg>\n",
              "      </button>\n",
              "      \n",
              "  <style>\n",
              "    .colab-df-container {\n",
              "      display:flex;\n",
              "      flex-wrap:wrap;\n",
              "      gap: 12px;\n",
              "    }\n",
              "\n",
              "    .colab-df-convert {\n",
              "      background-color: #E8F0FE;\n",
              "      border: none;\n",
              "      border-radius: 50%;\n",
              "      cursor: pointer;\n",
              "      display: none;\n",
              "      fill: #1967D2;\n",
              "      height: 32px;\n",
              "      padding: 0 0 0 0;\n",
              "      width: 32px;\n",
              "    }\n",
              "\n",
              "    .colab-df-convert:hover {\n",
              "      background-color: #E2EBFA;\n",
              "      box-shadow: 0px 1px 2px rgba(60, 64, 67, 0.3), 0px 1px 3px 1px rgba(60, 64, 67, 0.15);\n",
              "      fill: #174EA6;\n",
              "    }\n",
              "\n",
              "    [theme=dark] .colab-df-convert {\n",
              "      background-color: #3B4455;\n",
              "      fill: #D2E3FC;\n",
              "    }\n",
              "\n",
              "    [theme=dark] .colab-df-convert:hover {\n",
              "      background-color: #434B5C;\n",
              "      box-shadow: 0px 1px 3px 1px rgba(0, 0, 0, 0.15);\n",
              "      filter: drop-shadow(0px 1px 2px rgba(0, 0, 0, 0.3));\n",
              "      fill: #FFFFFF;\n",
              "    }\n",
              "  </style>\n",
              "\n",
              "      <script>\n",
              "        const buttonEl =\n",
              "          document.querySelector('#df-c5255a02-459c-4154-b8a9-cbd82b504d20 button.colab-df-convert');\n",
              "        buttonEl.style.display =\n",
              "          google.colab.kernel.accessAllowed ? 'block' : 'none';\n",
              "\n",
              "        async function convertToInteractive(key) {\n",
              "          const element = document.querySelector('#df-c5255a02-459c-4154-b8a9-cbd82b504d20');\n",
              "          const dataTable =\n",
              "            await google.colab.kernel.invokeFunction('convertToInteractive',\n",
              "                                                     [key], {});\n",
              "          if (!dataTable) return;\n",
              "\n",
              "          const docLinkHtml = 'Like what you see? Visit the ' +\n",
              "            '<a target=\"_blank\" href=https://colab.research.google.com/notebooks/data_table.ipynb>data table notebook</a>'\n",
              "            + ' to learn more about interactive tables.';\n",
              "          element.innerHTML = '';\n",
              "          dataTable['output_type'] = 'display_data';\n",
              "          await google.colab.output.renderOutput(dataTable, element);\n",
              "          const docLink = document.createElement('div');\n",
              "          docLink.innerHTML = docLinkHtml;\n",
              "          element.appendChild(docLink);\n",
              "        }\n",
              "      </script>\n",
              "    </div>\n",
              "  </div>\n",
              "  "
            ],
            "text/plain": [
              "   Degree_Centrality  Closeness_Centrality  Betweeness_Centrality  \\\n",
              "0               0.44                  0.60                   0.60   \n",
              "1               0.33                  0.56                   0.56   \n",
              "2               0.33                  0.56                   0.56   \n",
              "3               0.33                  0.56                   0.56   \n",
              "4               0.33                  0.56                   0.56   \n",
              "5               0.44                  0.60                   0.60   \n",
              "6               0.33                  0.50                   0.50   \n",
              "7               0.33                  0.50                   0.50   \n",
              "8               0.22                  0.50                   0.50   \n",
              "9               0.22                  0.50                   0.50   \n",
              "\n",
              "   Eigen_Vector_Centrality  \n",
              "0                     0.37  \n",
              "1                     0.33  \n",
              "2                     0.33  \n",
              "3                     0.33  \n",
              "4                     0.33  \n",
              "5                     0.37  \n",
              "6                     0.31  \n",
              "7                     0.31  \n",
              "8                     0.24  \n",
              "9                     0.24  "
            ]
          },
          "execution_count": 33,
          "metadata": {},
          "output_type": "execute_result"
        }
      ],
      "source": [
        "udf"
      ]
    },
    {
      "cell_type": "code",
      "execution_count": null,
      "metadata": {
        "id": "gZk9NzUFcOwA"
      },
      "outputs": [],
      "source": []
    },
    {
      "cell_type": "code",
      "execution_count": 34,
      "metadata": {
        "id": "K4TrpJfRZgRX"
      },
      "outputs": [],
      "source": [
        "udf.to_csv('All Centality Degrees (Undirected Graph).csv')"
      ]
    },
    {
      "cell_type": "code",
      "execution_count": 34,
      "metadata": {
        "id": "ajLFt6OEjkQY"
      },
      "outputs": [],
      "source": []
    },
    {
      "cell_type": "code",
      "execution_count": 34,
      "metadata": {
        "id": "jcc5sVUzjkSx"
      },
      "outputs": [],
      "source": []
    },
    {
      "cell_type": "code",
      "execution_count": 35,
      "metadata": {
        "id": "nbRxN_LdjkVB"
      },
      "outputs": [],
      "source": [
        "def find_node_min_centarlity(udf,cent_name):\n",
        "  min = 100\n",
        "  node_min = -1\n",
        "  for i in range(len(udf)):\n",
        "    if udf[cent_name][i] < min:\n",
        "      min =  udf[cent_name][i]\n",
        "      node_min = i\n",
        "  return node_min,min\n",
        "\n",
        "def find_node_max_centarlity(udf,cent_name):\n",
        "  max = 0\n",
        "  node_max = -1\n",
        "  for i in range(len(udf)):\n",
        "    if udf[cent_name][i] > max:\n",
        "      max =  udf[cent_name][i]\n",
        "      node_max = i\n",
        "  return node_max,max\n",
        "  "
      ]
    },
    {
      "cell_type": "code",
      "execution_count": 35,
      "metadata": {
        "id": "hGYOIMTK9lQN"
      },
      "outputs": [],
      "source": []
    },
    {
      "cell_type": "code",
      "execution_count": 35,
      "metadata": {
        "id": "QTLCs5LP9lSW"
      },
      "outputs": [],
      "source": []
    },
    {
      "cell_type": "code",
      "execution_count": 35,
      "metadata": {
        "id": "UifWSy2N9lTN"
      },
      "outputs": [],
      "source": []
    },
    {
      "cell_type": "code",
      "execution_count": 36,
      "metadata": {
        "colab": {
          "base_uri": "https://localhost:8080/"
        },
        "id": "SBEN76-Mm2lG",
        "outputId": "b3bdd874-af91-467d-e501-edf2002f1a77"
      },
      "outputs": [
        {
          "name": "stdout",
          "output_type": "stream",
          "text": [
            "8 0.22\n",
            "0 0.44\n"
          ]
        }
      ],
      "source": [
        "node_min,min = find_node_min_centarlity(udf,'Degree_Centrality')\n",
        "node_max,max = find_node_max_centarlity(udf,'Degree_Centrality')\n",
        "print(node_min,min)\n",
        "print(node_max,max)\n",
        "degree_cent_min_max = {'Min Degree Node':str(node_min),'Value C1':min,'Max Degree Node':str(node_max),'Value C2':max}\n"
      ]
    },
    {
      "cell_type": "code",
      "execution_count": 37,
      "metadata": {
        "colab": {
          "base_uri": "https://localhost:8080/"
        },
        "id": "bcxFd_ok3eSl",
        "outputId": "75d26617-e991-4305-d51e-33513633ab5c"
      },
      "outputs": [
        {
          "name": "stdout",
          "output_type": "stream",
          "text": [
            "6 0.5\n",
            "0 0.6\n"
          ]
        }
      ],
      "source": [
        "node_min,min = find_node_min_centarlity(udf,'Closeness_Centrality')\n",
        "node_max,max = find_node_max_centarlity(udf,'Closeness_Centrality')\n",
        "print(node_min,min)\n",
        "print(node_max,max)\n",
        "closeness_cent_min_max = {'Min Degree Node':str(node_min),'Value C1':min,'Max Degree Node':str(node_max),'Value C2':max}\n"
      ]
    },
    {
      "cell_type": "code",
      "execution_count": 38,
      "metadata": {
        "colab": {
          "base_uri": "https://localhost:8080/"
        },
        "id": "Gk17ZHjC3eZM",
        "outputId": "0231c20b-a203-47af-fe6c-24dd15748006"
      },
      "outputs": [
        {
          "name": "stdout",
          "output_type": "stream",
          "text": [
            "6 0.5\n",
            "0 0.6\n"
          ]
        }
      ],
      "source": [
        "node_min,min = find_node_min_centarlity(udf,'Betweeness_Centrality')\n",
        "node_max,max = find_node_max_centarlity(udf,'Betweeness_Centrality')\n",
        "print(node_min,min)\n",
        "print(node_max,max)\n",
        "betweeness_cent_min_max = {'Min Degree Node':str(node_min),'Value C1':min,'Max Degree Node':str(node_max),'Value C2':max}\n"
      ]
    },
    {
      "cell_type": "code",
      "execution_count": 39,
      "metadata": {
        "colab": {
          "base_uri": "https://localhost:8080/"
        },
        "id": "MxtKLBXw3egh",
        "outputId": "b28734ec-cefd-468f-b1b9-d67c5f50ed96"
      },
      "outputs": [
        {
          "name": "stdout",
          "output_type": "stream",
          "text": [
            "8 0.24\n",
            "0 0.37\n"
          ]
        }
      ],
      "source": [
        "node_min,min = find_node_min_centarlity(udf,'Eigen_Vector_Centrality')\n",
        "node_max,max = find_node_max_centarlity(udf,'Eigen_Vector_Centrality')\n",
        "print(node_min,min)\n",
        "print(node_max,max)\n",
        "eigen_vector_cent_min_max = {'Min Degree Node':str(node_min),'Value C1':min,'Max Degree Node':str(node_max),'Value C2':max}\n"
      ]
    },
    {
      "cell_type": "code",
      "execution_count": 39,
      "metadata": {
        "id": "-DxtpuU_uYJQ"
      },
      "outputs": [],
      "source": []
    },
    {
      "cell_type": "code",
      "execution_count": 40,
      "metadata": {
        "colab": {
          "base_uri": "https://localhost:8080/",
          "height": 49
        },
        "id": "pmcacJ6AqNSM",
        "outputId": "573d7dd6-3798-499c-80ee-19a11aaf6c80"
      },
      "outputs": [
        {
          "data": {
            "text/html": [
              "\n",
              "  <div id=\"df-35743d5b-573d-47bf-81f6-293b2a170567\">\n",
              "    <div class=\"colab-df-container\">\n",
              "      <div>\n",
              "<style scoped>\n",
              "    .dataframe tbody tr th:only-of-type {\n",
              "        vertical-align: middle;\n",
              "    }\n",
              "\n",
              "    .dataframe tbody tr th {\n",
              "        vertical-align: top;\n",
              "    }\n",
              "\n",
              "    .dataframe thead th {\n",
              "        text-align: right;\n",
              "    }\n",
              "</style>\n",
              "<table border=\"1\" class=\"dataframe\">\n",
              "  <thead>\n",
              "    <tr style=\"text-align: right;\">\n",
              "      <th></th>\n",
              "      <th>Min Degree Node</th>\n",
              "      <th>Value C1</th>\n",
              "      <th>Max Degree Node</th>\n",
              "      <th>Value C2</th>\n",
              "    </tr>\n",
              "  </thead>\n",
              "  <tbody>\n",
              "  </tbody>\n",
              "</table>\n",
              "</div>\n",
              "      <button class=\"colab-df-convert\" onclick=\"convertToInteractive('df-35743d5b-573d-47bf-81f6-293b2a170567')\"\n",
              "              title=\"Convert this dataframe to an interactive table.\"\n",
              "              style=\"display:none;\">\n",
              "        \n",
              "  <svg xmlns=\"http://www.w3.org/2000/svg\" height=\"24px\"viewBox=\"0 0 24 24\"\n",
              "       width=\"24px\">\n",
              "    <path d=\"M0 0h24v24H0V0z\" fill=\"none\"/>\n",
              "    <path d=\"M18.56 5.44l.94 2.06.94-2.06 2.06-.94-2.06-.94-.94-2.06-.94 2.06-2.06.94zm-11 1L8.5 8.5l.94-2.06 2.06-.94-2.06-.94L8.5 2.5l-.94 2.06-2.06.94zm10 10l.94 2.06.94-2.06 2.06-.94-2.06-.94-.94-2.06-.94 2.06-2.06.94z\"/><path d=\"M17.41 7.96l-1.37-1.37c-.4-.4-.92-.59-1.43-.59-.52 0-1.04.2-1.43.59L10.3 9.45l-7.72 7.72c-.78.78-.78 2.05 0 2.83L4 21.41c.39.39.9.59 1.41.59.51 0 1.02-.2 1.41-.59l7.78-7.78 2.81-2.81c.8-.78.8-2.07 0-2.86zM5.41 20L4 18.59l7.72-7.72 1.47 1.35L5.41 20z\"/>\n",
              "  </svg>\n",
              "      </button>\n",
              "      \n",
              "  <style>\n",
              "    .colab-df-container {\n",
              "      display:flex;\n",
              "      flex-wrap:wrap;\n",
              "      gap: 12px;\n",
              "    }\n",
              "\n",
              "    .colab-df-convert {\n",
              "      background-color: #E8F0FE;\n",
              "      border: none;\n",
              "      border-radius: 50%;\n",
              "      cursor: pointer;\n",
              "      display: none;\n",
              "      fill: #1967D2;\n",
              "      height: 32px;\n",
              "      padding: 0 0 0 0;\n",
              "      width: 32px;\n",
              "    }\n",
              "\n",
              "    .colab-df-convert:hover {\n",
              "      background-color: #E2EBFA;\n",
              "      box-shadow: 0px 1px 2px rgba(60, 64, 67, 0.3), 0px 1px 3px 1px rgba(60, 64, 67, 0.15);\n",
              "      fill: #174EA6;\n",
              "    }\n",
              "\n",
              "    [theme=dark] .colab-df-convert {\n",
              "      background-color: #3B4455;\n",
              "      fill: #D2E3FC;\n",
              "    }\n",
              "\n",
              "    [theme=dark] .colab-df-convert:hover {\n",
              "      background-color: #434B5C;\n",
              "      box-shadow: 0px 1px 3px 1px rgba(0, 0, 0, 0.15);\n",
              "      filter: drop-shadow(0px 1px 2px rgba(0, 0, 0, 0.3));\n",
              "      fill: #FFFFFF;\n",
              "    }\n",
              "  </style>\n",
              "\n",
              "      <script>\n",
              "        const buttonEl =\n",
              "          document.querySelector('#df-35743d5b-573d-47bf-81f6-293b2a170567 button.colab-df-convert');\n",
              "        buttonEl.style.display =\n",
              "          google.colab.kernel.accessAllowed ? 'block' : 'none';\n",
              "\n",
              "        async function convertToInteractive(key) {\n",
              "          const element = document.querySelector('#df-35743d5b-573d-47bf-81f6-293b2a170567');\n",
              "          const dataTable =\n",
              "            await google.colab.kernel.invokeFunction('convertToInteractive',\n",
              "                                                     [key], {});\n",
              "          if (!dataTable) return;\n",
              "\n",
              "          const docLinkHtml = 'Like what you see? Visit the ' +\n",
              "            '<a target=\"_blank\" href=https://colab.research.google.com/notebooks/data_table.ipynb>data table notebook</a>'\n",
              "            + ' to learn more about interactive tables.';\n",
              "          element.innerHTML = '';\n",
              "          dataTable['output_type'] = 'display_data';\n",
              "          await google.colab.output.renderOutput(dataTable, element);\n",
              "          const docLink = document.createElement('div');\n",
              "          docLink.innerHTML = docLinkHtml;\n",
              "          element.appendChild(docLink);\n",
              "        }\n",
              "      </script>\n",
              "    </div>\n",
              "  </div>\n",
              "  "
            ],
            "text/plain": [
              "Empty DataFrame\n",
              "Columns: [Min Degree Node, Value C1, Max Degree Node, Value C2]\n",
              "Index: []"
            ]
          },
          "execution_count": 40,
          "metadata": {},
          "output_type": "execute_result"
        }
      ],
      "source": [
        "udf_min_max = pd.DataFrame(columns=['Min Degree Node','Value C1','Max Degree Node','Value C2'])\n",
        "\n",
        "udf_min_max"
      ]
    },
    {
      "cell_type": "code",
      "execution_count": 41,
      "metadata": {
        "colab": {
          "base_uri": "https://localhost:8080/",
          "height": 334
        },
        "id": "F5IC5gveqPue",
        "outputId": "73bf726c-6151-43cb-b93b-47fa62cdfe8e"
      },
      "outputs": [
        {
          "name": "stderr",
          "output_type": "stream",
          "text": [
            "<ipython-input-41-f63f0aa390aa>:1: FutureWarning: The frame.append method is deprecated and will be removed from pandas in a future version. Use pandas.concat instead.\n",
            "  udf_min_max = udf_min_max.append(pd.Series(degree_cent_min_max,index = udf_min_max.columns,name = 'Degree Centrality'))\n",
            "<ipython-input-41-f63f0aa390aa>:2: FutureWarning: The frame.append method is deprecated and will be removed from pandas in a future version. Use pandas.concat instead.\n",
            "  udf_min_max = udf_min_max.append(pd.Series(closeness_cent_min_max,index = udf_min_max.columns,name = 'Closeness Centrality'))\n",
            "<ipython-input-41-f63f0aa390aa>:3: FutureWarning: The frame.append method is deprecated and will be removed from pandas in a future version. Use pandas.concat instead.\n",
            "  udf_min_max = udf_min_max.append(pd.Series(betweeness_cent_min_max,index = udf_min_max.columns,name = 'Betweeness Centrality'))\n",
            "<ipython-input-41-f63f0aa390aa>:4: FutureWarning: The frame.append method is deprecated and will be removed from pandas in a future version. Use pandas.concat instead.\n",
            "  udf_min_max = udf_min_max.append(pd.Series(eigen_vector_cent_min_max,index = udf_min_max.columns,name = 'Eigen Vector Centrality'))\n"
          ]
        },
        {
          "data": {
            "text/html": [
              "\n",
              "  <div id=\"df-79b9b498-a5d1-40b8-845a-f448542a283b\">\n",
              "    <div class=\"colab-df-container\">\n",
              "      <div>\n",
              "<style scoped>\n",
              "    .dataframe tbody tr th:only-of-type {\n",
              "        vertical-align: middle;\n",
              "    }\n",
              "\n",
              "    .dataframe tbody tr th {\n",
              "        vertical-align: top;\n",
              "    }\n",
              "\n",
              "    .dataframe thead th {\n",
              "        text-align: right;\n",
              "    }\n",
              "</style>\n",
              "<table border=\"1\" class=\"dataframe\">\n",
              "  <thead>\n",
              "    <tr style=\"text-align: right;\">\n",
              "      <th></th>\n",
              "      <th>Min Degree Node</th>\n",
              "      <th>Value C1</th>\n",
              "      <th>Max Degree Node</th>\n",
              "      <th>Value C2</th>\n",
              "    </tr>\n",
              "  </thead>\n",
              "  <tbody>\n",
              "    <tr>\n",
              "      <th>Degree Centrality</th>\n",
              "      <td>8</td>\n",
              "      <td>0.22</td>\n",
              "      <td>0</td>\n",
              "      <td>0.44</td>\n",
              "    </tr>\n",
              "    <tr>\n",
              "      <th>Closeness Centrality</th>\n",
              "      <td>6</td>\n",
              "      <td>0.50</td>\n",
              "      <td>0</td>\n",
              "      <td>0.60</td>\n",
              "    </tr>\n",
              "    <tr>\n",
              "      <th>Betweeness Centrality</th>\n",
              "      <td>6</td>\n",
              "      <td>0.50</td>\n",
              "      <td>0</td>\n",
              "      <td>0.60</td>\n",
              "    </tr>\n",
              "    <tr>\n",
              "      <th>Eigen Vector Centrality</th>\n",
              "      <td>8</td>\n",
              "      <td>0.24</td>\n",
              "      <td>0</td>\n",
              "      <td>0.37</td>\n",
              "    </tr>\n",
              "  </tbody>\n",
              "</table>\n",
              "</div>\n",
              "      <button class=\"colab-df-convert\" onclick=\"convertToInteractive('df-79b9b498-a5d1-40b8-845a-f448542a283b')\"\n",
              "              title=\"Convert this dataframe to an interactive table.\"\n",
              "              style=\"display:none;\">\n",
              "        \n",
              "  <svg xmlns=\"http://www.w3.org/2000/svg\" height=\"24px\"viewBox=\"0 0 24 24\"\n",
              "       width=\"24px\">\n",
              "    <path d=\"M0 0h24v24H0V0z\" fill=\"none\"/>\n",
              "    <path d=\"M18.56 5.44l.94 2.06.94-2.06 2.06-.94-2.06-.94-.94-2.06-.94 2.06-2.06.94zm-11 1L8.5 8.5l.94-2.06 2.06-.94-2.06-.94L8.5 2.5l-.94 2.06-2.06.94zm10 10l.94 2.06.94-2.06 2.06-.94-2.06-.94-.94-2.06-.94 2.06-2.06.94z\"/><path d=\"M17.41 7.96l-1.37-1.37c-.4-.4-.92-.59-1.43-.59-.52 0-1.04.2-1.43.59L10.3 9.45l-7.72 7.72c-.78.78-.78 2.05 0 2.83L4 21.41c.39.39.9.59 1.41.59.51 0 1.02-.2 1.41-.59l7.78-7.78 2.81-2.81c.8-.78.8-2.07 0-2.86zM5.41 20L4 18.59l7.72-7.72 1.47 1.35L5.41 20z\"/>\n",
              "  </svg>\n",
              "      </button>\n",
              "      \n",
              "  <style>\n",
              "    .colab-df-container {\n",
              "      display:flex;\n",
              "      flex-wrap:wrap;\n",
              "      gap: 12px;\n",
              "    }\n",
              "\n",
              "    .colab-df-convert {\n",
              "      background-color: #E8F0FE;\n",
              "      border: none;\n",
              "      border-radius: 50%;\n",
              "      cursor: pointer;\n",
              "      display: none;\n",
              "      fill: #1967D2;\n",
              "      height: 32px;\n",
              "      padding: 0 0 0 0;\n",
              "      width: 32px;\n",
              "    }\n",
              "\n",
              "    .colab-df-convert:hover {\n",
              "      background-color: #E2EBFA;\n",
              "      box-shadow: 0px 1px 2px rgba(60, 64, 67, 0.3), 0px 1px 3px 1px rgba(60, 64, 67, 0.15);\n",
              "      fill: #174EA6;\n",
              "    }\n",
              "\n",
              "    [theme=dark] .colab-df-convert {\n",
              "      background-color: #3B4455;\n",
              "      fill: #D2E3FC;\n",
              "    }\n",
              "\n",
              "    [theme=dark] .colab-df-convert:hover {\n",
              "      background-color: #434B5C;\n",
              "      box-shadow: 0px 1px 3px 1px rgba(0, 0, 0, 0.15);\n",
              "      filter: drop-shadow(0px 1px 2px rgba(0, 0, 0, 0.3));\n",
              "      fill: #FFFFFF;\n",
              "    }\n",
              "  </style>\n",
              "\n",
              "      <script>\n",
              "        const buttonEl =\n",
              "          document.querySelector('#df-79b9b498-a5d1-40b8-845a-f448542a283b button.colab-df-convert');\n",
              "        buttonEl.style.display =\n",
              "          google.colab.kernel.accessAllowed ? 'block' : 'none';\n",
              "\n",
              "        async function convertToInteractive(key) {\n",
              "          const element = document.querySelector('#df-79b9b498-a5d1-40b8-845a-f448542a283b');\n",
              "          const dataTable =\n",
              "            await google.colab.kernel.invokeFunction('convertToInteractive',\n",
              "                                                     [key], {});\n",
              "          if (!dataTable) return;\n",
              "\n",
              "          const docLinkHtml = 'Like what you see? Visit the ' +\n",
              "            '<a target=\"_blank\" href=https://colab.research.google.com/notebooks/data_table.ipynb>data table notebook</a>'\n",
              "            + ' to learn more about interactive tables.';\n",
              "          element.innerHTML = '';\n",
              "          dataTable['output_type'] = 'display_data';\n",
              "          await google.colab.output.renderOutput(dataTable, element);\n",
              "          const docLink = document.createElement('div');\n",
              "          docLink.innerHTML = docLinkHtml;\n",
              "          element.appendChild(docLink);\n",
              "        }\n",
              "      </script>\n",
              "    </div>\n",
              "  </div>\n",
              "  "
            ],
            "text/plain": [
              "                        Min Degree Node  Value C1 Max Degree Node  Value C2\n",
              "Degree Centrality                     8      0.22               0      0.44\n",
              "Closeness Centrality                  6      0.50               0      0.60\n",
              "Betweeness Centrality                 6      0.50               0      0.60\n",
              "Eigen Vector Centrality               8      0.24               0      0.37"
            ]
          },
          "execution_count": 41,
          "metadata": {},
          "output_type": "execute_result"
        }
      ],
      "source": [
        "udf_min_max = udf_min_max.append(pd.Series(degree_cent_min_max,index = udf_min_max.columns,name = 'Degree Centrality'))\n",
        "udf_min_max = udf_min_max.append(pd.Series(closeness_cent_min_max,index = udf_min_max.columns,name = 'Closeness Centrality'))\n",
        "udf_min_max = udf_min_max.append(pd.Series(betweeness_cent_min_max,index = udf_min_max.columns,name = 'Betweeness Centrality'))\n",
        "udf_min_max = udf_min_max.append(pd.Series(eigen_vector_cent_min_max,index = udf_min_max.columns,name = 'Eigen Vector Centrality'))\n",
        "udf_min_max"
      ]
    },
    {
      "cell_type": "code",
      "execution_count": 42,
      "metadata": {
        "colab": {
          "base_uri": "https://localhost:8080/",
          "height": 35
        },
        "id": "t7tFwDJ2qPx1",
        "outputId": "a252ba11-64a3-4024-c18f-b10a153b9448"
      },
      "outputs": [
        {
          "data": {
            "application/vnd.google.colaboratory.intrinsic+json": {
              "type": "string"
            },
            "text/plain": [
              "\"\\nudf_min_max = udf_min_max.assign(index= udf.columns)\\nudf_min_max = udf_min_max.set_index(udf_min_max['index'])\\nudf_min_max.drop(columns=['index'])\\n\\n\""
            ]
          },
          "execution_count": 42,
          "metadata": {},
          "output_type": "execute_result"
        }
      ],
      "source": [
        "'''\n",
        "udf_min_max = udf_min_max.assign(index= udf.columns)\n",
        "udf_min_max = udf_min_max.set_index(udf_min_max['index'])\n",
        "udf_min_max.drop(columns=['index'])\n",
        "\n",
        "'''"
      ]
    },
    {
      "cell_type": "code",
      "execution_count": 42,
      "metadata": {
        "id": "HhJqvLbitaQm"
      },
      "outputs": [],
      "source": []
    },
    {
      "cell_type": "code",
      "execution_count": 42,
      "metadata": {
        "id": "YUY51VI_qP4_"
      },
      "outputs": [],
      "source": []
    },
    {
      "cell_type": "markdown",
      "metadata": {
        "id": "JFulzhhnjcpM"
      },
      "source": [
        "**Directed Graph**"
      ]
    },
    {
      "cell_type": "code",
      "execution_count": 43,
      "metadata": {
        "colab": {
          "base_uri": "https://localhost:8080/"
        },
        "id": "6IrFQWY-qOo0",
        "outputId": "098dda32-7ca3-4cf8-b84c-2b29bab3869f"
      },
      "outputs": [
        {
          "name": "stdout",
          "output_type": "stream",
          "text": [
            "{0: 0.4444444444444444, 1: 0.3333333333333333, 2: 0.3333333333333333, 8: 0.2222222222222222, 9: 0.2222222222222222, 4: 0.3333333333333333, 6: 0.3333333333333333, 3: 0.3333333333333333, 7: 0.3333333333333333, 5: 0.4444444444444444}\n",
            "{0: 0.44, 1: 0.33, 2: 0.33, 3: 0.33, 4: 0.33, 5: 0.44, 6: 0.33, 7: 0.33, 8: 0.22, 9: 0.22}\n"
          ]
        }
      ],
      "source": [
        "deg_centrality = nx.degree_centrality(G2)\n",
        "print(deg_centrality)\n",
        "dg_deg_centrality = dict_round(deg_centrality)\n",
        "print(dg_deg_centrality)"
      ]
    },
    {
      "cell_type": "code",
      "execution_count": 44,
      "metadata": {
        "colab": {
          "base_uri": "https://localhost:8080/"
        },
        "id": "jkVn5Z3OjKsg",
        "outputId": "7bcb757a-dded-46d7-ff8e-706aac373bc0"
      },
      "outputs": [
        {
          "name": "stdout",
          "output_type": "stream",
          "text": [
            "{0: 0.0, 1: 0.1111111111111111, 2: 0.1111111111111111, 8: 0.1111111111111111, 9: 0.1111111111111111, 4: 0.14814814814814814, 6: 0.25, 3: 0.14814814814814814, 7: 0.39999999999999997, 5: 0.5444444444444444}\n",
            "{0: 0.0, 1: 0.11, 2: 0.11, 3: 0.15, 4: 0.15, 5: 0.54, 6: 0.25, 7: 0.4, 8: 0.11, 9: 0.11}\n"
          ]
        }
      ],
      "source": [
        "closeness_centrality = nx.closeness_centrality(G2)\n",
        "print(closeness_centrality)\n",
        "dg_closeness_centrality = dict_round(closeness_centrality)\n",
        "print(dg_closeness_centrality)"
      ]
    },
    {
      "cell_type": "code",
      "execution_count": 45,
      "metadata": {
        "colab": {
          "base_uri": "https://localhost:8080/"
        },
        "id": "G3caQsyKlotx",
        "outputId": "a9688ddc-fc8d-4ec5-916e-6eab998496d3"
      },
      "outputs": [
        {
          "name": "stdout",
          "output_type": "stream",
          "text": [
            "{0: 0.0, 1: 0.1111111111111111, 2: 0.1111111111111111, 8: 0.1111111111111111, 9: 0.1111111111111111, 4: 0.14814814814814814, 6: 0.25, 3: 0.14814814814814814, 7: 0.39999999999999997, 5: 0.5444444444444444}\n",
            "{0: 0.0, 1: 0.11, 2: 0.11, 3: 0.15, 4: 0.15, 5: 0.54, 6: 0.25, 7: 0.4, 8: 0.11, 9: 0.11}\n"
          ]
        }
      ],
      "source": [
        "betweeness_centrality = nx.closeness_centrality(G2)\n",
        "print(betweeness_centrality)\n",
        "dg_betweeness_centrality = dict_round(betweeness_centrality)\n",
        "print(dg_betweeness_centrality)"
      ]
    },
    {
      "cell_type": "code",
      "execution_count": 46,
      "metadata": {
        "colab": {
          "base_uri": "https://localhost:8080/",
          "height": 53
        },
        "id": "rCg4NbqDlo7D",
        "outputId": "a46a92c5-41d5-47f7-fae1-737513351f4f"
      },
      "outputs": [
        {
          "data": {
            "application/vnd.google.colaboratory.intrinsic+json": {
              "type": "string"
            },
            "text/plain": [
              "'\\neigen_vector_centrality = nx.eigenvector_centrality(G2)\\nprint(eigen_vector_centrality)\\ndg_eigen_vector_centrality = dict_round(eigen_vector_centrality)\\nprint(dg_eigen_vector_centrality)\\n\\n'"
            ]
          },
          "execution_count": 46,
          "metadata": {},
          "output_type": "execute_result"
        }
      ],
      "source": [
        "'''\n",
        "eigen_vector_centrality = nx.eigenvector_centrality(G2)\n",
        "print(eigen_vector_centrality)\n",
        "dg_eigen_vector_centrality = dict_round(eigen_vector_centrality)\n",
        "print(dg_eigen_vector_centrality)\n",
        "\n",
        "'''"
      ]
    },
    {
      "cell_type": "code",
      "execution_count": 47,
      "metadata": {
        "colab": {
          "base_uri": "https://localhost:8080/",
          "height": 363
        },
        "id": "TQawGtoG8BL1",
        "outputId": "501359ac-b5dd-40c1-e6b6-b0539b79367a"
      },
      "outputs": [
        {
          "data": {
            "text/html": [
              "\n",
              "  <div id=\"df-b16038ca-a707-4dfd-b098-4b836839f1d5\">\n",
              "    <div class=\"colab-df-container\">\n",
              "      <div>\n",
              "<style scoped>\n",
              "    .dataframe tbody tr th:only-of-type {\n",
              "        vertical-align: middle;\n",
              "    }\n",
              "\n",
              "    .dataframe tbody tr th {\n",
              "        vertical-align: top;\n",
              "    }\n",
              "\n",
              "    .dataframe thead th {\n",
              "        text-align: right;\n",
              "    }\n",
              "</style>\n",
              "<table border=\"1\" class=\"dataframe\">\n",
              "  <thead>\n",
              "    <tr style=\"text-align: right;\">\n",
              "      <th></th>\n",
              "      <th>Degree_Centrality</th>\n",
              "      <th>Closeness_Centrality</th>\n",
              "      <th>Betweeness_Centrality</th>\n",
              "    </tr>\n",
              "  </thead>\n",
              "  <tbody>\n",
              "    <tr>\n",
              "      <th>0</th>\n",
              "      <td>0.44</td>\n",
              "      <td>0.00</td>\n",
              "      <td>0.00</td>\n",
              "    </tr>\n",
              "    <tr>\n",
              "      <th>1</th>\n",
              "      <td>0.33</td>\n",
              "      <td>0.11</td>\n",
              "      <td>0.11</td>\n",
              "    </tr>\n",
              "    <tr>\n",
              "      <th>2</th>\n",
              "      <td>0.33</td>\n",
              "      <td>0.11</td>\n",
              "      <td>0.11</td>\n",
              "    </tr>\n",
              "    <tr>\n",
              "      <th>3</th>\n",
              "      <td>0.33</td>\n",
              "      <td>0.15</td>\n",
              "      <td>0.15</td>\n",
              "    </tr>\n",
              "    <tr>\n",
              "      <th>4</th>\n",
              "      <td>0.33</td>\n",
              "      <td>0.15</td>\n",
              "      <td>0.15</td>\n",
              "    </tr>\n",
              "    <tr>\n",
              "      <th>5</th>\n",
              "      <td>0.44</td>\n",
              "      <td>0.54</td>\n",
              "      <td>0.54</td>\n",
              "    </tr>\n",
              "    <tr>\n",
              "      <th>6</th>\n",
              "      <td>0.33</td>\n",
              "      <td>0.25</td>\n",
              "      <td>0.25</td>\n",
              "    </tr>\n",
              "    <tr>\n",
              "      <th>7</th>\n",
              "      <td>0.33</td>\n",
              "      <td>0.40</td>\n",
              "      <td>0.40</td>\n",
              "    </tr>\n",
              "    <tr>\n",
              "      <th>8</th>\n",
              "      <td>0.22</td>\n",
              "      <td>0.11</td>\n",
              "      <td>0.11</td>\n",
              "    </tr>\n",
              "    <tr>\n",
              "      <th>9</th>\n",
              "      <td>0.22</td>\n",
              "      <td>0.11</td>\n",
              "      <td>0.11</td>\n",
              "    </tr>\n",
              "  </tbody>\n",
              "</table>\n",
              "</div>\n",
              "      <button class=\"colab-df-convert\" onclick=\"convertToInteractive('df-b16038ca-a707-4dfd-b098-4b836839f1d5')\"\n",
              "              title=\"Convert this dataframe to an interactive table.\"\n",
              "              style=\"display:none;\">\n",
              "        \n",
              "  <svg xmlns=\"http://www.w3.org/2000/svg\" height=\"24px\"viewBox=\"0 0 24 24\"\n",
              "       width=\"24px\">\n",
              "    <path d=\"M0 0h24v24H0V0z\" fill=\"none\"/>\n",
              "    <path d=\"M18.56 5.44l.94 2.06.94-2.06 2.06-.94-2.06-.94-.94-2.06-.94 2.06-2.06.94zm-11 1L8.5 8.5l.94-2.06 2.06-.94-2.06-.94L8.5 2.5l-.94 2.06-2.06.94zm10 10l.94 2.06.94-2.06 2.06-.94-2.06-.94-.94-2.06-.94 2.06-2.06.94z\"/><path d=\"M17.41 7.96l-1.37-1.37c-.4-.4-.92-.59-1.43-.59-.52 0-1.04.2-1.43.59L10.3 9.45l-7.72 7.72c-.78.78-.78 2.05 0 2.83L4 21.41c.39.39.9.59 1.41.59.51 0 1.02-.2 1.41-.59l7.78-7.78 2.81-2.81c.8-.78.8-2.07 0-2.86zM5.41 20L4 18.59l7.72-7.72 1.47 1.35L5.41 20z\"/>\n",
              "  </svg>\n",
              "      </button>\n",
              "      \n",
              "  <style>\n",
              "    .colab-df-container {\n",
              "      display:flex;\n",
              "      flex-wrap:wrap;\n",
              "      gap: 12px;\n",
              "    }\n",
              "\n",
              "    .colab-df-convert {\n",
              "      background-color: #E8F0FE;\n",
              "      border: none;\n",
              "      border-radius: 50%;\n",
              "      cursor: pointer;\n",
              "      display: none;\n",
              "      fill: #1967D2;\n",
              "      height: 32px;\n",
              "      padding: 0 0 0 0;\n",
              "      width: 32px;\n",
              "    }\n",
              "\n",
              "    .colab-df-convert:hover {\n",
              "      background-color: #E2EBFA;\n",
              "      box-shadow: 0px 1px 2px rgba(60, 64, 67, 0.3), 0px 1px 3px 1px rgba(60, 64, 67, 0.15);\n",
              "      fill: #174EA6;\n",
              "    }\n",
              "\n",
              "    [theme=dark] .colab-df-convert {\n",
              "      background-color: #3B4455;\n",
              "      fill: #D2E3FC;\n",
              "    }\n",
              "\n",
              "    [theme=dark] .colab-df-convert:hover {\n",
              "      background-color: #434B5C;\n",
              "      box-shadow: 0px 1px 3px 1px rgba(0, 0, 0, 0.15);\n",
              "      filter: drop-shadow(0px 1px 2px rgba(0, 0, 0, 0.3));\n",
              "      fill: #FFFFFF;\n",
              "    }\n",
              "  </style>\n",
              "\n",
              "      <script>\n",
              "        const buttonEl =\n",
              "          document.querySelector('#df-b16038ca-a707-4dfd-b098-4b836839f1d5 button.colab-df-convert');\n",
              "        buttonEl.style.display =\n",
              "          google.colab.kernel.accessAllowed ? 'block' : 'none';\n",
              "\n",
              "        async function convertToInteractive(key) {\n",
              "          const element = document.querySelector('#df-b16038ca-a707-4dfd-b098-4b836839f1d5');\n",
              "          const dataTable =\n",
              "            await google.colab.kernel.invokeFunction('convertToInteractive',\n",
              "                                                     [key], {});\n",
              "          if (!dataTable) return;\n",
              "\n",
              "          const docLinkHtml = 'Like what you see? Visit the ' +\n",
              "            '<a target=\"_blank\" href=https://colab.research.google.com/notebooks/data_table.ipynb>data table notebook</a>'\n",
              "            + ' to learn more about interactive tables.';\n",
              "          element.innerHTML = '';\n",
              "          dataTable['output_type'] = 'display_data';\n",
              "          await google.colab.output.renderOutput(dataTable, element);\n",
              "          const docLink = document.createElement('div');\n",
              "          docLink.innerHTML = docLinkHtml;\n",
              "          element.appendChild(docLink);\n",
              "        }\n",
              "      </script>\n",
              "    </div>\n",
              "  </div>\n",
              "  "
            ],
            "text/plain": [
              "   Degree_Centrality  Closeness_Centrality  Betweeness_Centrality\n",
              "0               0.44                  0.00                   0.00\n",
              "1               0.33                  0.11                   0.11\n",
              "2               0.33                  0.11                   0.11\n",
              "3               0.33                  0.15                   0.15\n",
              "4               0.33                  0.15                   0.15\n",
              "5               0.44                  0.54                   0.54\n",
              "6               0.33                  0.25                   0.25\n",
              "7               0.33                  0.40                   0.40\n",
              "8               0.22                  0.11                   0.11\n",
              "9               0.22                  0.11                   0.11"
            ]
          },
          "execution_count": 47,
          "metadata": {},
          "output_type": "execute_result"
        }
      ],
      "source": [
        "ddf = pd.DataFrame.from_dict(dg_deg_centrality,orient='index',columns=['Degree_Centrality'])\n",
        "ddf = ddf.assign(Closeness_Centrality= dg_closeness_centrality.values())\n",
        "ddf = ddf.assign(Betweeness_Centrality= dg_betweeness_centrality.values())\n",
        "#ddf = ddf.assign(Eigen_Vector_Centrality= dg_eigen_vector_centrality.values())\n",
        "ddf"
      ]
    },
    {
      "cell_type": "code",
      "execution_count": 48,
      "metadata": {
        "colab": {
          "base_uri": "https://localhost:8080/"
        },
        "id": "hWZolu_R8BOW",
        "outputId": "df0f86b8-5245-4e85-c6b2-3aeb6874ab47"
      },
      "outputs": [
        {
          "name": "stdout",
          "output_type": "stream",
          "text": [
            "8 0.22\n",
            "0 0.44\n"
          ]
        }
      ],
      "source": [
        "node_min,min = find_node_min_centarlity(udf,'Degree_Centrality')\n",
        "node_max,max = find_node_max_centarlity(udf,'Degree_Centrality')\n",
        "print(node_min,min)\n",
        "print(node_max,max)\n",
        "degree_cent_min_max = {'Min Degree Node':str(node_min),'Value C1':min,'Max Degree Node':str(node_max),'Value C2':max}\n"
      ]
    },
    {
      "cell_type": "code",
      "execution_count": 49,
      "metadata": {
        "colab": {
          "base_uri": "https://localhost:8080/"
        },
        "id": "QhFSLQTB8BQy",
        "outputId": "2871dd9f-723f-442e-e7d6-fc3e46c5347e"
      },
      "outputs": [
        {
          "name": "stdout",
          "output_type": "stream",
          "text": [
            "0 0.0\n",
            "5 0.54\n"
          ]
        }
      ],
      "source": [
        "node_min,min = find_node_min_centarlity(ddf,'Closeness_Centrality')\n",
        "node_max,max = find_node_max_centarlity(ddf,'Closeness_Centrality')\n",
        "print(node_min,min)\n",
        "print(node_max,max)\n",
        "closeness_cent_min_max = {'Min Degree Node':str(node_min),'Value C1':min,'Max Degree Node':str(node_max),'Value C2':max}\n"
      ]
    },
    {
      "cell_type": "code",
      "execution_count": 50,
      "metadata": {
        "colab": {
          "base_uri": "https://localhost:8080/"
        },
        "id": "cUw51RbG8BTE",
        "outputId": "82040de2-ea1d-40a5-f17f-5227c0898c33"
      },
      "outputs": [
        {
          "name": "stdout",
          "output_type": "stream",
          "text": [
            "0 0.0\n",
            "5 0.54\n"
          ]
        }
      ],
      "source": [
        "node_min,min = find_node_min_centarlity(ddf,'Betweeness_Centrality')\n",
        "node_max,max = find_node_max_centarlity(ddf,'Betweeness_Centrality')\n",
        "print(node_min,min)\n",
        "print(node_max,max)\n",
        "betweeness_cent_min_max = {'Min Degree Node':str(node_min),'Value C1':min,'Max Degree Node':str(node_max),'Value C2':max}\n"
      ]
    },
    {
      "cell_type": "code",
      "execution_count": 51,
      "metadata": {
        "colab": {
          "base_uri": "https://localhost:8080/",
          "height": 53
        },
        "id": "1M38lQvP9wj_",
        "outputId": "9cbc56ee-248b-4973-b3c8-7085df9251cd"
      },
      "outputs": [
        {
          "data": {
            "application/vnd.google.colaboratory.intrinsic+json": {
              "type": "string"
            },
            "text/plain": [
              "\"\\nnode_min,min = find_node_min_centarlity(ddf,'Eigen_Vector_Centrality')\\nnode_max,max = find_node_max_centarlity(ddf,'Eigen_Vector_Centrality')\\nprint(node_min,min)\\nprint(node_max,max)\\neigen_vector_cent_min_max = {'Min Degree Node':str(node_min),'Value C1':min,'Max Degree Node':str(node_max),'Value C2':max}\\n\""
            ]
          },
          "execution_count": 51,
          "metadata": {},
          "output_type": "execute_result"
        }
      ],
      "source": [
        "'''\n",
        "node_min,min = find_node_min_centarlity(ddf,'Eigen_Vector_Centrality')\n",
        "node_max,max = find_node_max_centarlity(ddf,'Eigen_Vector_Centrality')\n",
        "print(node_min,min)\n",
        "print(node_max,max)\n",
        "eigen_vector_cent_min_max = {'Min Degree Node':str(node_min),'Value C1':min,'Max Degree Node':str(node_max),'Value C2':max}\n",
        "'''"
      ]
    },
    {
      "cell_type": "code",
      "execution_count": 52,
      "metadata": {
        "colab": {
          "base_uri": "https://localhost:8080/",
          "height": 49
        },
        "id": "83YzyDAF9wmk",
        "outputId": "18cb74c5-024d-41c4-f264-f18282425326"
      },
      "outputs": [
        {
          "data": {
            "text/html": [
              "\n",
              "  <div id=\"df-a8220b6a-a9ff-4dd8-8da0-36197152a9b3\">\n",
              "    <div class=\"colab-df-container\">\n",
              "      <div>\n",
              "<style scoped>\n",
              "    .dataframe tbody tr th:only-of-type {\n",
              "        vertical-align: middle;\n",
              "    }\n",
              "\n",
              "    .dataframe tbody tr th {\n",
              "        vertical-align: top;\n",
              "    }\n",
              "\n",
              "    .dataframe thead th {\n",
              "        text-align: right;\n",
              "    }\n",
              "</style>\n",
              "<table border=\"1\" class=\"dataframe\">\n",
              "  <thead>\n",
              "    <tr style=\"text-align: right;\">\n",
              "      <th></th>\n",
              "      <th>Min Degree Node</th>\n",
              "      <th>Value C1</th>\n",
              "      <th>Max Degree Node</th>\n",
              "      <th>Value C2</th>\n",
              "    </tr>\n",
              "  </thead>\n",
              "  <tbody>\n",
              "  </tbody>\n",
              "</table>\n",
              "</div>\n",
              "      <button class=\"colab-df-convert\" onclick=\"convertToInteractive('df-a8220b6a-a9ff-4dd8-8da0-36197152a9b3')\"\n",
              "              title=\"Convert this dataframe to an interactive table.\"\n",
              "              style=\"display:none;\">\n",
              "        \n",
              "  <svg xmlns=\"http://www.w3.org/2000/svg\" height=\"24px\"viewBox=\"0 0 24 24\"\n",
              "       width=\"24px\">\n",
              "    <path d=\"M0 0h24v24H0V0z\" fill=\"none\"/>\n",
              "    <path d=\"M18.56 5.44l.94 2.06.94-2.06 2.06-.94-2.06-.94-.94-2.06-.94 2.06-2.06.94zm-11 1L8.5 8.5l.94-2.06 2.06-.94-2.06-.94L8.5 2.5l-.94 2.06-2.06.94zm10 10l.94 2.06.94-2.06 2.06-.94-2.06-.94-.94-2.06-.94 2.06-2.06.94z\"/><path d=\"M17.41 7.96l-1.37-1.37c-.4-.4-.92-.59-1.43-.59-.52 0-1.04.2-1.43.59L10.3 9.45l-7.72 7.72c-.78.78-.78 2.05 0 2.83L4 21.41c.39.39.9.59 1.41.59.51 0 1.02-.2 1.41-.59l7.78-7.78 2.81-2.81c.8-.78.8-2.07 0-2.86zM5.41 20L4 18.59l7.72-7.72 1.47 1.35L5.41 20z\"/>\n",
              "  </svg>\n",
              "      </button>\n",
              "      \n",
              "  <style>\n",
              "    .colab-df-container {\n",
              "      display:flex;\n",
              "      flex-wrap:wrap;\n",
              "      gap: 12px;\n",
              "    }\n",
              "\n",
              "    .colab-df-convert {\n",
              "      background-color: #E8F0FE;\n",
              "      border: none;\n",
              "      border-radius: 50%;\n",
              "      cursor: pointer;\n",
              "      display: none;\n",
              "      fill: #1967D2;\n",
              "      height: 32px;\n",
              "      padding: 0 0 0 0;\n",
              "      width: 32px;\n",
              "    }\n",
              "\n",
              "    .colab-df-convert:hover {\n",
              "      background-color: #E2EBFA;\n",
              "      box-shadow: 0px 1px 2px rgba(60, 64, 67, 0.3), 0px 1px 3px 1px rgba(60, 64, 67, 0.15);\n",
              "      fill: #174EA6;\n",
              "    }\n",
              "\n",
              "    [theme=dark] .colab-df-convert {\n",
              "      background-color: #3B4455;\n",
              "      fill: #D2E3FC;\n",
              "    }\n",
              "\n",
              "    [theme=dark] .colab-df-convert:hover {\n",
              "      background-color: #434B5C;\n",
              "      box-shadow: 0px 1px 3px 1px rgba(0, 0, 0, 0.15);\n",
              "      filter: drop-shadow(0px 1px 2px rgba(0, 0, 0, 0.3));\n",
              "      fill: #FFFFFF;\n",
              "    }\n",
              "  </style>\n",
              "\n",
              "      <script>\n",
              "        const buttonEl =\n",
              "          document.querySelector('#df-a8220b6a-a9ff-4dd8-8da0-36197152a9b3 button.colab-df-convert');\n",
              "        buttonEl.style.display =\n",
              "          google.colab.kernel.accessAllowed ? 'block' : 'none';\n",
              "\n",
              "        async function convertToInteractive(key) {\n",
              "          const element = document.querySelector('#df-a8220b6a-a9ff-4dd8-8da0-36197152a9b3');\n",
              "          const dataTable =\n",
              "            await google.colab.kernel.invokeFunction('convertToInteractive',\n",
              "                                                     [key], {});\n",
              "          if (!dataTable) return;\n",
              "\n",
              "          const docLinkHtml = 'Like what you see? Visit the ' +\n",
              "            '<a target=\"_blank\" href=https://colab.research.google.com/notebooks/data_table.ipynb>data table notebook</a>'\n",
              "            + ' to learn more about interactive tables.';\n",
              "          element.innerHTML = '';\n",
              "          dataTable['output_type'] = 'display_data';\n",
              "          await google.colab.output.renderOutput(dataTable, element);\n",
              "          const docLink = document.createElement('div');\n",
              "          docLink.innerHTML = docLinkHtml;\n",
              "          element.appendChild(docLink);\n",
              "        }\n",
              "      </script>\n",
              "    </div>\n",
              "  </div>\n",
              "  "
            ],
            "text/plain": [
              "Empty DataFrame\n",
              "Columns: [Min Degree Node, Value C1, Max Degree Node, Value C2]\n",
              "Index: []"
            ]
          },
          "execution_count": 52,
          "metadata": {},
          "output_type": "execute_result"
        }
      ],
      "source": [
        "ddf_min_max = pd.DataFrame(columns=['Min Degree Node','Value C1','Max Degree Node','Value C2'])\n",
        "\n",
        "ddf_min_max"
      ]
    },
    {
      "cell_type": "code",
      "execution_count": 53,
      "metadata": {
        "colab": {
          "base_uri": "https://localhost:8080/",
          "height": 268
        },
        "id": "W_2nDrfH9wou",
        "outputId": "37998778-b9d0-487b-b12b-d74f0d475fde"
      },
      "outputs": [
        {
          "name": "stderr",
          "output_type": "stream",
          "text": [
            "<ipython-input-53-ee76da975917>:1: FutureWarning: The frame.append method is deprecated and will be removed from pandas in a future version. Use pandas.concat instead.\n",
            "  ddf_min_max = ddf_min_max.append(pd.Series(degree_cent_min_max,index = ddf_min_max.columns,name = 'Degree Centrality'))\n",
            "<ipython-input-53-ee76da975917>:2: FutureWarning: The frame.append method is deprecated and will be removed from pandas in a future version. Use pandas.concat instead.\n",
            "  ddf_min_max = ddf_min_max.append(pd.Series(closeness_cent_min_max,index = ddf_min_max.columns,name = 'Closeness Centrality'))\n",
            "<ipython-input-53-ee76da975917>:3: FutureWarning: The frame.append method is deprecated and will be removed from pandas in a future version. Use pandas.concat instead.\n",
            "  ddf_min_max = ddf_min_max.append(pd.Series(betweeness_cent_min_max,index = ddf_min_max.columns,name = 'Betweeness Centrality'))\n"
          ]
        },
        {
          "data": {
            "text/html": [
              "\n",
              "  <div id=\"df-36b4ab42-e323-48af-a0c8-0986f0f1b896\">\n",
              "    <div class=\"colab-df-container\">\n",
              "      <div>\n",
              "<style scoped>\n",
              "    .dataframe tbody tr th:only-of-type {\n",
              "        vertical-align: middle;\n",
              "    }\n",
              "\n",
              "    .dataframe tbody tr th {\n",
              "        vertical-align: top;\n",
              "    }\n",
              "\n",
              "    .dataframe thead th {\n",
              "        text-align: right;\n",
              "    }\n",
              "</style>\n",
              "<table border=\"1\" class=\"dataframe\">\n",
              "  <thead>\n",
              "    <tr style=\"text-align: right;\">\n",
              "      <th></th>\n",
              "      <th>Min Degree Node</th>\n",
              "      <th>Value C1</th>\n",
              "      <th>Max Degree Node</th>\n",
              "      <th>Value C2</th>\n",
              "    </tr>\n",
              "  </thead>\n",
              "  <tbody>\n",
              "    <tr>\n",
              "      <th>Degree Centrality</th>\n",
              "      <td>8</td>\n",
              "      <td>0.22</td>\n",
              "      <td>0</td>\n",
              "      <td>0.44</td>\n",
              "    </tr>\n",
              "    <tr>\n",
              "      <th>Closeness Centrality</th>\n",
              "      <td>0</td>\n",
              "      <td>0.00</td>\n",
              "      <td>5</td>\n",
              "      <td>0.54</td>\n",
              "    </tr>\n",
              "    <tr>\n",
              "      <th>Betweeness Centrality</th>\n",
              "      <td>0</td>\n",
              "      <td>0.00</td>\n",
              "      <td>5</td>\n",
              "      <td>0.54</td>\n",
              "    </tr>\n",
              "  </tbody>\n",
              "</table>\n",
              "</div>\n",
              "      <button class=\"colab-df-convert\" onclick=\"convertToInteractive('df-36b4ab42-e323-48af-a0c8-0986f0f1b896')\"\n",
              "              title=\"Convert this dataframe to an interactive table.\"\n",
              "              style=\"display:none;\">\n",
              "        \n",
              "  <svg xmlns=\"http://www.w3.org/2000/svg\" height=\"24px\"viewBox=\"0 0 24 24\"\n",
              "       width=\"24px\">\n",
              "    <path d=\"M0 0h24v24H0V0z\" fill=\"none\"/>\n",
              "    <path d=\"M18.56 5.44l.94 2.06.94-2.06 2.06-.94-2.06-.94-.94-2.06-.94 2.06-2.06.94zm-11 1L8.5 8.5l.94-2.06 2.06-.94-2.06-.94L8.5 2.5l-.94 2.06-2.06.94zm10 10l.94 2.06.94-2.06 2.06-.94-2.06-.94-.94-2.06-.94 2.06-2.06.94z\"/><path d=\"M17.41 7.96l-1.37-1.37c-.4-.4-.92-.59-1.43-.59-.52 0-1.04.2-1.43.59L10.3 9.45l-7.72 7.72c-.78.78-.78 2.05 0 2.83L4 21.41c.39.39.9.59 1.41.59.51 0 1.02-.2 1.41-.59l7.78-7.78 2.81-2.81c.8-.78.8-2.07 0-2.86zM5.41 20L4 18.59l7.72-7.72 1.47 1.35L5.41 20z\"/>\n",
              "  </svg>\n",
              "      </button>\n",
              "      \n",
              "  <style>\n",
              "    .colab-df-container {\n",
              "      display:flex;\n",
              "      flex-wrap:wrap;\n",
              "      gap: 12px;\n",
              "    }\n",
              "\n",
              "    .colab-df-convert {\n",
              "      background-color: #E8F0FE;\n",
              "      border: none;\n",
              "      border-radius: 50%;\n",
              "      cursor: pointer;\n",
              "      display: none;\n",
              "      fill: #1967D2;\n",
              "      height: 32px;\n",
              "      padding: 0 0 0 0;\n",
              "      width: 32px;\n",
              "    }\n",
              "\n",
              "    .colab-df-convert:hover {\n",
              "      background-color: #E2EBFA;\n",
              "      box-shadow: 0px 1px 2px rgba(60, 64, 67, 0.3), 0px 1px 3px 1px rgba(60, 64, 67, 0.15);\n",
              "      fill: #174EA6;\n",
              "    }\n",
              "\n",
              "    [theme=dark] .colab-df-convert {\n",
              "      background-color: #3B4455;\n",
              "      fill: #D2E3FC;\n",
              "    }\n",
              "\n",
              "    [theme=dark] .colab-df-convert:hover {\n",
              "      background-color: #434B5C;\n",
              "      box-shadow: 0px 1px 3px 1px rgba(0, 0, 0, 0.15);\n",
              "      filter: drop-shadow(0px 1px 2px rgba(0, 0, 0, 0.3));\n",
              "      fill: #FFFFFF;\n",
              "    }\n",
              "  </style>\n",
              "\n",
              "      <script>\n",
              "        const buttonEl =\n",
              "          document.querySelector('#df-36b4ab42-e323-48af-a0c8-0986f0f1b896 button.colab-df-convert');\n",
              "        buttonEl.style.display =\n",
              "          google.colab.kernel.accessAllowed ? 'block' : 'none';\n",
              "\n",
              "        async function convertToInteractive(key) {\n",
              "          const element = document.querySelector('#df-36b4ab42-e323-48af-a0c8-0986f0f1b896');\n",
              "          const dataTable =\n",
              "            await google.colab.kernel.invokeFunction('convertToInteractive',\n",
              "                                                     [key], {});\n",
              "          if (!dataTable) return;\n",
              "\n",
              "          const docLinkHtml = 'Like what you see? Visit the ' +\n",
              "            '<a target=\"_blank\" href=https://colab.research.google.com/notebooks/data_table.ipynb>data table notebook</a>'\n",
              "            + ' to learn more about interactive tables.';\n",
              "          element.innerHTML = '';\n",
              "          dataTable['output_type'] = 'display_data';\n",
              "          await google.colab.output.renderOutput(dataTable, element);\n",
              "          const docLink = document.createElement('div');\n",
              "          docLink.innerHTML = docLinkHtml;\n",
              "          element.appendChild(docLink);\n",
              "        }\n",
              "      </script>\n",
              "    </div>\n",
              "  </div>\n",
              "  "
            ],
            "text/plain": [
              "                      Min Degree Node  Value C1 Max Degree Node  Value C2\n",
              "Degree Centrality                   8      0.22               0      0.44\n",
              "Closeness Centrality                0      0.00               5      0.54\n",
              "Betweeness Centrality               0      0.00               5      0.54"
            ]
          },
          "execution_count": 53,
          "metadata": {},
          "output_type": "execute_result"
        }
      ],
      "source": [
        "ddf_min_max = ddf_min_max.append(pd.Series(degree_cent_min_max,index = ddf_min_max.columns,name = 'Degree Centrality'))\n",
        "ddf_min_max = ddf_min_max.append(pd.Series(closeness_cent_min_max,index = ddf_min_max.columns,name = 'Closeness Centrality'))\n",
        "ddf_min_max = ddf_min_max.append(pd.Series(betweeness_cent_min_max,index = ddf_min_max.columns,name = 'Betweeness Centrality'))\n",
        "#ddf_min_max = ddf_min_max.append(pd.Series(eigen_vector_cent_min_max,index = ddf_min_max.columns,name = 'Eigen Vector Centrality'))\n",
        "ddf_min_max"
      ]
    },
    {
      "cell_type": "code",
      "execution_count": null,
      "metadata": {
        "id": "_xhnAu6W9wqx"
      },
      "outputs": [],
      "source": []
    },
    {
      "cell_type": "code",
      "execution_count": null,
      "metadata": {
        "id": "h3Rn0mui9wrt"
      },
      "outputs": [],
      "source": []
    },
    {
      "cell_type": "code",
      "execution_count": null,
      "metadata": {
        "id": "E71LWS-S9wtY"
      },
      "outputs": [],
      "source": []
    },
    {
      "cell_type": "code",
      "execution_count": null,
      "metadata": {
        "id": "iXm7fIP18BT8"
      },
      "outputs": [],
      "source": []
    }
  ],
  "metadata": {
    "colab": {
      "provenance": []
    },
    "kernelspec": {
      "display_name": "Python 3",
      "name": "python3"
    },
    "language_info": {
      "codemirror_mode": {
        "name": "ipython",
        "version": 3
      },
      "file_extension": ".py",
      "mimetype": "text/x-python",
      "name": "python",
      "nbconvert_exporter": "python",
      "pygments_lexer": "ipython3",
      "version": "3.9.7"
    }
  },
  "nbformat": 4,
  "nbformat_minor": 0
}
